{
 "cells": [
  {
   "cell_type": "code",
   "execution_count": 47,
   "id": "305a3096",
   "metadata": {},
   "outputs": [],
   "source": [
    "import tensorflow as tf\n",
    "from tensorflow import keras\n",
    "from tensorflow.keras.layers import Dense, Activation, GlobalMaxPooling2D  "
   ]
  },
  {
   "cell_type": "code",
   "execution_count": 48,
   "id": "56b073e2",
   "metadata": {},
   "outputs": [
    {
     "data": {
      "text/plain": [
       "[]"
      ]
     },
     "execution_count": 48,
     "metadata": {},
     "output_type": "execute_result"
    }
   ],
   "source": [
    "\n",
    "tf.config.experimental.list_physical_devices('GPU')"
   ]
  },
  {
   "cell_type": "code",
   "execution_count": 49,
   "id": "31308925",
   "metadata": {},
   "outputs": [],
   "source": [
    "import os\n",
    "os.environ[\"CUDA_VISIBLE_DEVICES\"] = \"0\"\n"
   ]
  },
  {
   "cell_type": "code",
   "execution_count": 50,
   "id": "6eff6e95",
   "metadata": {},
   "outputs": [],
   "source": [
    "(x_train, y_train), (x_test, y_test) = keras.datasets.cifar10.load_data()"
   ]
  },
  {
   "cell_type": "code",
   "execution_count": 51,
   "id": "cb00cc6a",
   "metadata": {},
   "outputs": [],
   "source": [
    "x_train = x_train.astype('float32')\n",
    "x_test = x_test.astype('float32')\n",
    "x_train /= 255\n",
    "x_test /= 255"
   ]
  },
  {
   "cell_type": "code",
   "execution_count": 52,
   "id": "592835ac",
   "metadata": {},
   "outputs": [],
   "source": [
    "num_classes = 10\n",
    "y_train = keras.utils.to_categorical(y_train, num_classes)\n",
    "y_test = keras.utils.to_categorical(y_test, num_classes)"
   ]
  },
  {
   "cell_type": "code",
   "execution_count": 53,
   "id": "a88589a9",
   "metadata": {},
   "outputs": [],
   "source": [
    "model= keras.applications.ResNet50(include_top=True, weights=None, input_tensor=None, input_shape=(32, 32, 3), classes=num_classes)"
   ]
  },
  {
   "cell_type": "code",
   "execution_count": 54,
   "id": "8ff03780",
   "metadata": {},
   "outputs": [],
   "source": [
    "model.compile(optimizer='adam', loss='categorical_crossentropy', metrics=['accuracy'])"
   ]
  },
  {
   "cell_type": "code",
   "execution_count": 55,
   "id": "1f3c638d",
   "metadata": {},
   "outputs": [
    {
     "name": "stdout",
     "output_type": "stream",
     "text": [
      "Epoch 1/10\n",
      "391/391 [==============================] - 2067s 5s/step - loss: 1.8134 - accuracy: 0.3919 - val_loss: 2.1998 - val_accuracy: 0.2403\n",
      "Epoch 2/10\n",
      "391/391 [==============================] - 1789s 5s/step - loss: 1.6466 - accuracy: 0.4566 - val_loss: 142.8185 - val_accuracy: 0.1000\n",
      "Epoch 3/10\n",
      "391/391 [==============================] - 1860s 5s/step - loss: 1.5875 - accuracy: 0.4818 - val_loss: 1.7248 - val_accuracy: 0.3848\n",
      "Epoch 4/10\n",
      "391/391 [==============================] - 2130s 5s/step - loss: 1.4229 - accuracy: 0.5220 - val_loss: 34.3290 - val_accuracy: 0.3064\n",
      "Epoch 5/10\n",
      "391/391 [==============================] - 8297s 21s/step - loss: 1.3299 - accuracy: 0.5535 - val_loss: 1.4191 - val_accuracy: 0.5233\n",
      "Epoch 6/10\n",
      "391/391 [==============================] - 2195s 6s/step - loss: 1.1981 - accuracy: 0.5891 - val_loss: 2.6315 - val_accuracy: 0.2909\n",
      "Epoch 7/10\n",
      "391/391 [==============================] - 2044s 5s/step - loss: 1.5228 - accuracy: 0.5209 - val_loss: 5.5462 - val_accuracy: 0.2490\n",
      "Epoch 8/10\n",
      "391/391 [==============================] - 1969s 5s/step - loss: 1.3717 - accuracy: 0.5324 - val_loss: 4.4073 - val_accuracy: 0.2898\n",
      "Epoch 9/10\n",
      "391/391 [==============================] - 1796s 5s/step - loss: 1.4232 - accuracy: 0.5217 - val_loss: 3.7650 - val_accuracy: 0.3761\n",
      "Epoch 10/10\n",
      "391/391 [==============================] - 2208s 6s/step - loss: 1.0978 - accuracy: 0.6289 - val_loss: 1.3065 - val_accuracy: 0.5702\n"
     ]
    },
    {
     "data": {
      "text/plain": [
       "<keras.src.callbacks.History at 0x273d2065870>"
      ]
     },
     "execution_count": 55,
     "metadata": {},
     "output_type": "execute_result"
    }
   ],
   "source": [
    "model.fit(x_train, y_train, batch_size=128, epochs=10, validation_data=(x_test, y_test))"
   ]
  },
  {
   "cell_type": "code",
   "execution_count": null,
   "id": "2343ef42",
   "metadata": {},
   "outputs": [],
   "source": [
    "accuracy = model_resnet50.evaluate(x_test, y_test)[1]\n",
    "print(\"ResNet50 Accuracy:\", accuracy)"
   ]
  }
 ],
 "metadata": {
  "kernelspec": {
   "display_name": "Python 3 (ipykernel)",
   "language": "python",
   "name": "python3"
  },
  "language_info": {
   "codemirror_mode": {
    "name": "ipython",
    "version": 3
   },
   "file_extension": ".py",
   "mimetype": "text/x-python",
   "name": "python",
   "nbconvert_exporter": "python",
   "pygments_lexer": "ipython3",
   "version": "3.10.9"
  }
 },
 "nbformat": 4,
 "nbformat_minor": 5
}
